{
 "cells": [
  {
   "cell_type": "code",
   "execution_count": 1,
   "id": "dcc56ed7",
   "metadata": {},
   "outputs": [],
   "source": [
    "import collections.abc as abc"
   ]
  },
  {
   "cell_type": "code",
   "execution_count": 5,
   "id": "d43663eb",
   "metadata": {},
   "outputs": [
    {
     "data": {
      "text/plain": [
       "True"
      ]
     },
     "execution_count": 5,
     "metadata": {},
     "output_type": "execute_result"
    }
   ],
   "source": [
    "my_dict = {}\n",
    "isinstance(my_dict, abc.Mapping)"
   ]
  },
  {
   "cell_type": "code",
   "execution_count": 6,
   "id": "cfd142dc",
   "metadata": {},
   "outputs": [
    {
     "data": {
      "text/plain": [
       "collections.abc.Mapping"
      ]
     },
     "execution_count": 6,
     "metadata": {},
     "output_type": "execute_result"
    }
   ],
   "source": [
    "abc.Mapping"
   ]
  },
  {
   "cell_type": "code",
   "execution_count": 9,
   "id": "147c8554",
   "metadata": {},
   "outputs": [
    {
     "data": {
      "text/plain": [
       "True"
      ]
     },
     "execution_count": 9,
     "metadata": {},
     "output_type": "execute_result"
    }
   ],
   "source": [
    "my_dict = {}\n",
    "isinstance(my_dict, dict)"
   ]
  },
  {
   "cell_type": "markdown",
   "id": "1697bf73",
   "metadata": {},
   "source": [
    "All mapping types in the standard library use the basic dict in their implementation, so they share the limitation that the keys must be hashable.\n"
   ]
  },
  {
   "cell_type": "markdown",
   "id": "dd3a6bde",
   "metadata": {},
   "source": [
    "## dict comprehensions"
   ]
  },
  {
   "cell_type": "code",
   "execution_count": 10,
   "id": "50b5cb89",
   "metadata": {},
   "outputs": [],
   "source": [
    "DIAL_CODES = [\n",
    "    (86, 'China'),\n",
    "    (91, 'India'),\n",
    "    (1, 'USA'),\n",
    "    (7, 'Russia')\n",
    "]"
   ]
  },
  {
   "cell_type": "code",
   "execution_count": 21,
   "id": "8da814c0",
   "metadata": {},
   "outputs": [],
   "source": [
    "country_code = {country: code for code, country in DIAL_CODES}"
   ]
  },
  {
   "cell_type": "code",
   "execution_count": 22,
   "id": "f21ac0a4",
   "metadata": {},
   "outputs": [
    {
     "data": {
      "text/plain": [
       "{'China': 86, 'India': 91, 'USA': 1, 'Russia': 7}"
      ]
     },
     "execution_count": 22,
     "metadata": {},
     "output_type": "execute_result"
    }
   ],
   "source": [
    "country_code"
   ]
  },
  {
   "cell_type": "code",
   "execution_count": 23,
   "id": "7bb152a1",
   "metadata": {},
   "outputs": [
    {
     "data": {
      "text/plain": [
       "{1: 'USA', 7: 'RUSSIA'}"
      ]
     },
     "execution_count": 23,
     "metadata": {},
     "output_type": "execute_result"
    }
   ],
   "source": [
    "{code: country.upper() for country, code in country_code.items() if code < 10}"
   ]
  },
  {
   "cell_type": "markdown",
   "id": "75a9b6ae",
   "metadata": {},
   "source": [
    "## Missing Keys with setdefault, defaultdict"
   ]
  },
  {
   "cell_type": "markdown",
   "id": "12614bfc",
   "metadata": {},
   "source": [
    "Dict acces d[k] raises error whenever k is not an existing key. \n",
    "d.get(k, default) returns default value whenever it is more convieninet than handling KeyError"
   ]
  },
  {
   "cell_type": "markdown",
   "id": "ec10b52b",
   "metadata": {},
   "source": [
    "setdefault set what value should be retourned if key is not presnet"
   ]
  },
  {
   "cell_type": "markdown",
   "id": "1c71a50d",
   "metadata": {},
   "source": [
    "defaultdict - creates element on demand whenever key is missing"
   ]
  },
  {
   "cell_type": "markdown",
   "id": "55c1c16b",
   "metadata": {},
   "source": [
    "dict.keys() retuns a view (similar to set) so the search is very optimised"
   ]
  },
  {
   "cell_type": "markdown",
   "id": "79de093c",
   "metadata": {},
   "source": [
    "## Variations of dict"
   ]
  },
  {
   "cell_type": "markdown",
   "id": "516680db",
   "metadata": {},
   "source": [
    "OrderedDict"
   ]
  },
  {
   "cell_type": "code",
   "execution_count": 28,
   "id": "35c6e130",
   "metadata": {},
   "outputs": [],
   "source": [
    "from collections import OrderedDict as od # maintain key in  insertion  order"
   ]
  },
  {
   "cell_type": "code",
   "execution_count": 31,
   "id": "7cd75dad",
   "metadata": {},
   "outputs": [],
   "source": [
    "from collections import ChainMap as ch "
   ]
  },
  {
   "cell_type": "code",
   "execution_count": 33,
   "id": "b6671ae8",
   "metadata": {},
   "outputs": [],
   "source": [
    "from collections import Counter as cn # Holds and integer count for each key.Updating existing key add to its count "
   ]
  },
  {
   "cell_type": "markdown",
   "id": "39b58964",
   "metadata": {},
   "source": [
    "# Set Theory"
   ]
  },
  {
   "cell_type": "markdown",
   "id": "90abcdc8",
   "metadata": {},
   "source": [
    "A set is a collection of unique objects"
   ]
  },
  {
   "cell_type": "markdown",
   "id": "e0eedc19",
   "metadata": {},
   "source": [
    " Set elements must bu hashable "
   ]
  },
  {
   "cell_type": "markdown",
   "id": "375f4ca4",
   "metadata": {},
   "source": [
    "Set itself is not hashable but frozenset is"
   ]
  },
  {
   "cell_type": "markdown",
   "id": "0f342e8e",
   "metadata": {},
   "source": [
    "### Set intersection &|"
   ]
  },
  {
   "cell_type": "code",
   "execution_count": 35,
   "id": "4a75dbd5",
   "metadata": {},
   "outputs": [],
   "source": [
    "haystack = set([1,2,3,4,5])"
   ]
  },
  {
   "cell_type": "code",
   "execution_count": 36,
   "id": "4a0c3f02",
   "metadata": {},
   "outputs": [],
   "source": [
    "needles = set([1,3])"
   ]
  },
  {
   "cell_type": "code",
   "execution_count": 37,
   "id": "97fe6bb5",
   "metadata": {},
   "outputs": [
    {
     "data": {
      "text/plain": [
       "{1, 3}"
      ]
     },
     "execution_count": 37,
     "metadata": {},
     "output_type": "execute_result"
    }
   ],
   "source": [
    "needles & haystack # "
   ]
  },
  {
   "cell_type": "markdown",
   "id": "413bef61",
   "metadata": {},
   "source": [
    "Without the instersetction yhou would need a for loop to accomplish the same"
   ]
  },
  {
   "cell_type": "markdown",
   "id": "fe0a5fce",
   "metadata": {},
   "source": [
    "Literal set syntax {1,2,3} is faster than calling a contructor"
   ]
  },
  {
   "cell_type": "code",
   "execution_count": 53,
   "id": "0dd17f10",
   "metadata": {},
   "outputs": [
    {
     "data": {
      "text/plain": [
       "set"
      ]
     },
     "execution_count": 53,
     "metadata": {},
     "output_type": "execute_result"
    }
   ],
   "source": [
    "type({1,2,3}) # but "
   ]
  },
  {
   "cell_type": "code",
   "execution_count": 54,
   "id": "a8f7e256",
   "metadata": {},
   "outputs": [
    {
     "data": {
      "text/plain": [
       "dict"
      ]
     },
     "execution_count": 54,
     "metadata": {},
     "output_type": "execute_result"
    }
   ],
   "source": [
    "type({}) # remember empty {} mean dictionary"
   ]
  },
  {
   "cell_type": "markdown",
   "id": "cdd5965a",
   "metadata": {},
   "source": [
    "## frozenset"
   ]
  },
  {
   "cell_type": "code",
   "execution_count": 44,
   "id": "46b6346a",
   "metadata": {},
   "outputs": [
    {
     "data": {
      "text/plain": [
       "frozenset({0, 1, 2, 3, 4, 5, 6, 7, 8, 9})"
      ]
     },
     "execution_count": 44,
     "metadata": {},
     "output_type": "execute_result"
    }
   ],
   "source": [
    "frozenset(range(10))"
   ]
  },
  {
   "cell_type": "markdown",
   "id": "50b93eea",
   "metadata": {},
   "source": [
    "## Set comprehensions"
   ]
  },
  {
   "cell_type": "code",
   "execution_count": 46,
   "id": "83866f01",
   "metadata": {},
   "outputs": [],
   "source": [
    "from unicodedata import name"
   ]
  },
  {
   "cell_type": "code",
   "execution_count": 49,
   "id": "ebbf8bb6",
   "metadata": {},
   "outputs": [
    {
     "data": {
      "text/plain": [
       "{'#',\n",
       " '$',\n",
       " '%',\n",
       " '+',\n",
       " '<',\n",
       " '=',\n",
       " '>',\n",
       " '¢',\n",
       " '£',\n",
       " '¤',\n",
       " '¥',\n",
       " '§',\n",
       " '©',\n",
       " '¬',\n",
       " '®',\n",
       " '°',\n",
       " '±',\n",
       " 'µ',\n",
       " '¶',\n",
       " '×',\n",
       " '÷'}"
      ]
     },
     "execution_count": 49,
     "metadata": {},
     "output_type": "execute_result"
    }
   ],
   "source": [
    "{chr(i) for i in range(32, 256) if  'SIGN' in name(chr(i),'')}"
   ]
  },
  {
   "cell_type": "markdown",
   "id": "4d396866",
   "metadata": {},
   "source": [
    "# Hashes"
   ]
  },
  {
   "cell_type": "code",
   "execution_count": 52,
   "id": "3f78be9a",
   "metadata": {},
   "outputs": [
    {
     "data": {
      "text/plain": [
       "-4962588340116295630"
      ]
     },
     "execution_count": 52,
     "metadata": {},
     "output_type": "execute_result"
    }
   ],
   "source": [
    "hash('1.0')"
   ]
  }
 ],
 "metadata": {
  "kernelspec": {
   "display_name": "Python 3 (ipykernel)",
   "language": "python",
   "name": "python3"
  },
  "language_info": {
   "codemirror_mode": {
    "name": "ipython",
    "version": 3
   },
   "file_extension": ".py",
   "mimetype": "text/x-python",
   "name": "python",
   "nbconvert_exporter": "python",
   "pygments_lexer": "ipython3",
   "version": "3.9.5"
  }
 },
 "nbformat": 4,
 "nbformat_minor": 5
}
