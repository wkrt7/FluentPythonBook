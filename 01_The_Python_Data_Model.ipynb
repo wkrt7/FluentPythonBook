{
 "cells": [
  {
   "cell_type": "markdown",
   "id": "45196ea2",
   "metadata": {},
   "source": [
    "__getitem__, __len__\n"
   ]
  },
  {
   "cell_type": "code",
   "execution_count": 15,
   "id": "d3e91562",
   "metadata": {},
   "outputs": [],
   "source": [
    "import collections\n",
    "Card = collections.namedtuple('Card',['rank', 'suit'])"
   ]
  },
  {
   "cell_type": "markdown",
   "id": "2f643169",
   "metadata": {},
   "source": [
    "namedtuple:\n",
    " - just like normal tuples but elements can be also accesed by .fieldnames\n",
    " - are backward compatible with normal tuples"
   ]
  },
  {
   "cell_type": "code",
   "execution_count": 16,
   "id": "5aeecfec",
   "metadata": {},
   "outputs": [],
   "source": [
    "class FrenchDeck:\n",
    "    ranks = [str(n) for n in range(2,11)] + list ('JQKA')\n",
    "    suits = 'spades diamonds clubs hearts'.split()\n",
    "    \n",
    "    def __init__(self):\n",
    "        self._cards = [Card(rank,suit) for suit in self.suits for rank in self.ranks]\n",
    "    def __len__(self):\n",
    "        return len(self._cards)\n",
    "\n",
    "    def __getitem__(self, position):\n",
    "        return self._cards[position]"
   ]
  },
  {
   "cell_type": "code",
   "execution_count": 19,
   "id": "fed7a74c",
   "metadata": {},
   "outputs": [
    {
     "data": {
      "text/plain": [
       "('7', 'diamonds')"
      ]
     },
     "execution_count": 19,
     "metadata": {},
     "output_type": "execute_result"
    }
   ],
   "source": [
    "t = ('7', 'diamonds')\n",
    "t"
   ]
  },
  {
   "cell_type": "code",
   "execution_count": 20,
   "id": "41d02940",
   "metadata": {},
   "outputs": [],
   "source": [
    "deck = FrenchDeck()"
   ]
  },
  {
   "cell_type": "markdown",
   "id": "02e59950",
   "metadata": {},
   "source": [
    "Thanks to implementation of __getitem__ in our class we can call cards as shown below"
   ]
  },
  {
   "cell_type": "code",
   "execution_count": 21,
   "id": "d5ae4fc6",
   "metadata": {},
   "outputs": [
    {
     "data": {
      "text/plain": [
       "(Card(rank='2', suit='spades'), Card(rank='A', suit='hearts'))"
      ]
     },
     "execution_count": 21,
     "metadata": {},
     "output_type": "execute_result"
    }
   ],
   "source": [
    "deck[0], deck[-1]"
   ]
  },
  {
   "cell_type": "markdown",
   "id": "1d062570",
   "metadata": {},
   "source": [
    "Thanks to implementation of getitem we can use function such as choice in simple way"
   ]
  },
  {
   "cell_type": "code",
   "execution_count": 22,
   "id": "6b524227",
   "metadata": {},
   "outputs": [
    {
     "data": {
      "text/plain": [
       "Card(rank='8', suit='diamonds')"
      ]
     },
     "execution_count": 22,
     "metadata": {},
     "output_type": "execute_result"
    }
   ],
   "source": [
    "from random import choice\n",
    "choice(deck)"
   ]
  },
  {
   "cell_type": "markdown",
   "id": "fb7dc18a",
   "metadata": {},
   "source": [
    "Basically we have access to python indexing just by implementing __getitem__"
   ]
  },
  {
   "cell_type": "code",
   "execution_count": 65,
   "id": "3ecc9497",
   "metadata": {},
   "outputs": [
    {
     "data": {
      "text/plain": [
       "[Card(rank='2', suit='spades'),\n",
       " Card(rank='4', suit='spades'),\n",
       " Card(rank='6', suit='spades'),\n",
       " Card(rank='8', suit='spades'),\n",
       " Card(rank='10', suit='spades'),\n",
       " Card(rank='Q', suit='spades'),\n",
       " Card(rank='A', suit='spades'),\n",
       " Card(rank='3', suit='diamonds'),\n",
       " Card(rank='5', suit='diamonds'),\n",
       " Card(rank='7', suit='diamonds'),\n",
       " Card(rank='9', suit='diamonds'),\n",
       " Card(rank='J', suit='diamonds'),\n",
       " Card(rank='K', suit='diamonds'),\n",
       " Card(rank='2', suit='clubs'),\n",
       " Card(rank='4', suit='clubs'),\n",
       " Card(rank='6', suit='clubs'),\n",
       " Card(rank='8', suit='clubs'),\n",
       " Card(rank='10', suit='clubs'),\n",
       " Card(rank='Q', suit='clubs'),\n",
       " Card(rank='A', suit='clubs'),\n",
       " Card(rank='3', suit='hearts'),\n",
       " Card(rank='5', suit='hearts'),\n",
       " Card(rank='7', suit='hearts'),\n",
       " Card(rank='9', suit='hearts'),\n",
       " Card(rank='J', suit='hearts'),\n",
       " Card(rank='K', suit='hearts')]"
      ]
     },
     "execution_count": 65,
     "metadata": {},
     "output_type": "execute_result"
    }
   ],
   "source": [
    "deck[::2] # returns every second element of collection"
   ]
  },
  {
   "cell_type": "code",
   "execution_count": 24,
   "id": "21ed4ece",
   "metadata": {},
   "outputs": [
    {
     "data": {
      "text/plain": [
       "[Card(rank='4', suit='spades'),\n",
       " Card(rank='6', suit='spades'),\n",
       " Card(rank='8', suit='spades'),\n",
       " Card(rank='10', suit='spades'),\n",
       " Card(rank='Q', suit='spades'),\n",
       " Card(rank='A', suit='spades'),\n",
       " Card(rank='3', suit='diamonds'),\n",
       " Card(rank='5', suit='diamonds'),\n",
       " Card(rank='7', suit='diamonds'),\n",
       " Card(rank='9', suit='diamonds'),\n",
       " Card(rank='J', suit='diamonds'),\n",
       " Card(rank='K', suit='diamonds'),\n",
       " Card(rank='2', suit='clubs'),\n",
       " Card(rank='4', suit='clubs'),\n",
       " Card(rank='6', suit='clubs'),\n",
       " Card(rank='8', suit='clubs'),\n",
       " Card(rank='10', suit='clubs'),\n",
       " Card(rank='Q', suit='clubs'),\n",
       " Card(rank='A', suit='clubs'),\n",
       " Card(rank='3', suit='hearts'),\n",
       " Card(rank='5', suit='hearts'),\n",
       " Card(rank='7', suit='hearts'),\n",
       " Card(rank='9', suit='hearts'),\n",
       " Card(rank='J', suit='hearts'),\n",
       " Card(rank='K', suit='hearts')]"
      ]
     },
     "execution_count": 24,
     "metadata": {},
     "output_type": "execute_result"
    }
   ],
   "source": [
    "deck[2::2] # returns every second element of collection starting but ommiting from third one"
   ]
  },
  {
   "cell_type": "markdown",
   "id": "7d0aa7b2",
   "metadata": {},
   "source": [
    "it makes our deck ITERABLE"
   ]
  },
  {
   "cell_type": "code",
   "execution_count": 25,
   "id": "695d51d1",
   "metadata": {},
   "outputs": [
    {
     "name": "stdout",
     "output_type": "stream",
     "text": [
      "Card(rank='A', suit='hearts')\n"
     ]
    }
   ],
   "source": [
    "for card in reversed(deck):\n",
    "    print(card)\n",
    "    break"
   ]
  },
  {
   "cell_type": "code",
   "execution_count": 26,
   "id": "02d17ae9",
   "metadata": {},
   "outputs": [
    {
     "data": {
      "text/plain": [
       "False"
      ]
     },
     "execution_count": 26,
     "metadata": {},
     "output_type": "execute_result"
    }
   ],
   "source": [
    "Card in deck"
   ]
  },
  {
   "cell_type": "code",
   "execution_count": 27,
   "id": "4041f622",
   "metadata": {},
   "outputs": [
    {
     "data": {
      "text/plain": [
       "True"
      ]
     },
     "execution_count": 27,
     "metadata": {},
     "output_type": "execute_result"
    }
   ],
   "source": [
    "Card('Q', 'spades') in deck"
   ]
  },
  {
   "cell_type": "code",
   "execution_count": 28,
   "id": "297f992e",
   "metadata": {},
   "outputs": [
    {
     "data": {
      "text/plain": [
       "Card(rank='spades', suit='Q')"
      ]
     },
     "execution_count": 28,
     "metadata": {},
     "output_type": "execute_result"
    }
   ],
   "source": [
    "Card(suit='Q', rank='spades') "
   ]
  },
  {
   "cell_type": "markdown",
   "id": "08877a4f",
   "metadata": {},
   "source": [
    "### sorting"
   ]
  },
  {
   "cell_type": "code",
   "execution_count": 29,
   "id": "87d0e729",
   "metadata": {},
   "outputs": [],
   "source": [
    "suit_values = dict(spades=3, hearts=2, diamonds=1, clubs=0)"
   ]
  },
  {
   "cell_type": "code",
   "execution_count": 30,
   "id": "fd4570fb",
   "metadata": {},
   "outputs": [
    {
     "data": {
      "text/plain": [
       "{'spades': 3, 'hearts': 2, 'diamonds': 1, 'clubs': 0}"
      ]
     },
     "execution_count": 30,
     "metadata": {},
     "output_type": "execute_result"
    }
   ],
   "source": [
    "suit_values"
   ]
  },
  {
   "cell_type": "code",
   "execution_count": 31,
   "id": "9334d185",
   "metadata": {},
   "outputs": [],
   "source": [
    "def spades_high(card):\n",
    "    rank_value = FrenchDeck.ranks.index(card.rank)\n",
    "    return rank_value * len(suit_values) + suit_values[card.suit]"
   ]
  },
  {
   "cell_type": "code",
   "execution_count": 32,
   "id": "a97bbaaf",
   "metadata": {
    "collapsed": true
   },
   "outputs": [
    {
     "name": "stdout",
     "output_type": "stream",
     "text": [
      "Card(rank='2', suit='clubs')\n",
      "Card(rank='2', suit='diamonds')\n",
      "Card(rank='2', suit='hearts')\n",
      "Card(rank='2', suit='spades')\n",
      "Card(rank='3', suit='clubs')\n",
      "Card(rank='3', suit='diamonds')\n",
      "Card(rank='3', suit='hearts')\n",
      "Card(rank='3', suit='spades')\n",
      "Card(rank='4', suit='clubs')\n",
      "Card(rank='4', suit='diamonds')\n",
      "Card(rank='4', suit='hearts')\n",
      "Card(rank='4', suit='spades')\n",
      "Card(rank='5', suit='clubs')\n",
      "Card(rank='5', suit='diamonds')\n",
      "Card(rank='5', suit='hearts')\n",
      "Card(rank='5', suit='spades')\n",
      "Card(rank='6', suit='clubs')\n",
      "Card(rank='6', suit='diamonds')\n",
      "Card(rank='6', suit='hearts')\n",
      "Card(rank='6', suit='spades')\n",
      "Card(rank='7', suit='clubs')\n",
      "Card(rank='7', suit='diamonds')\n",
      "Card(rank='7', suit='hearts')\n",
      "Card(rank='7', suit='spades')\n",
      "Card(rank='8', suit='clubs')\n",
      "Card(rank='8', suit='diamonds')\n",
      "Card(rank='8', suit='hearts')\n",
      "Card(rank='8', suit='spades')\n",
      "Card(rank='9', suit='clubs')\n",
      "Card(rank='9', suit='diamonds')\n",
      "Card(rank='9', suit='hearts')\n",
      "Card(rank='9', suit='spades')\n",
      "Card(rank='10', suit='clubs')\n",
      "Card(rank='10', suit='diamonds')\n",
      "Card(rank='10', suit='hearts')\n",
      "Card(rank='10', suit='spades')\n",
      "Card(rank='J', suit='clubs')\n",
      "Card(rank='J', suit='diamonds')\n",
      "Card(rank='J', suit='hearts')\n",
      "Card(rank='J', suit='spades')\n",
      "Card(rank='Q', suit='clubs')\n",
      "Card(rank='Q', suit='diamonds')\n",
      "Card(rank='Q', suit='hearts')\n",
      "Card(rank='Q', suit='spades')\n",
      "Card(rank='K', suit='clubs')\n",
      "Card(rank='K', suit='diamonds')\n",
      "Card(rank='K', suit='hearts')\n",
      "Card(rank='K', suit='spades')\n",
      "Card(rank='A', suit='clubs')\n",
      "Card(rank='A', suit='diamonds')\n",
      "Card(rank='A', suit='hearts')\n",
      "Card(rank='A', suit='spades')\n"
     ]
    }
   ],
   "source": [
    "for card in sorted(deck, key=spades_high):\n",
    "    print(card)"
   ]
  },
  {
   "cell_type": "markdown",
   "id": "0132203e",
   "metadata": {},
   "source": [
    "Deck cannot bw shuffled tho, it is **immutable**, to make it shuffable you need to add __setitem__ method"
   ]
  },
  {
   "cell_type": "markdown",
   "id": "ae426be1",
   "metadata": {},
   "source": [
    "Special methods are meant to be used by interpeter not by the user. You will not write x.__len__ just len(x). If x is instance of suer definded class then Python interpreter will call the __len__ you implemented. "
   ]
  },
  {
   "cell_type": "markdown",
   "id": "142026e9",
   "metadata": {},
   "source": [
    "It is better to call built-in functions (len, iter, str etc.) than to invoke special methods. It faster, provides additional services."
   ]
  },
  {
   "cell_type": "markdown",
   "id": "2d3d7959",
   "metadata": {},
   "source": [
    "## emulating numeric types"
   ]
  },
  {
   "cell_type": "code",
   "execution_count": 57,
   "id": "fa99e058",
   "metadata": {},
   "outputs": [],
   "source": [
    "from math import hypot\n",
    "\n",
    "class Vector:\n",
    "    \n",
    "    def __init__(self,x=0,y=0):\n",
    "        self.x = x\n",
    "        self.y = y\n",
    "    def __repr__(self):\n",
    "        return f'Vec of {self.x}, {self.y}'\n",
    "    \n",
    "    def __abs__(self):\n",
    "        return hypot(self.x, self.y)\n",
    "    def __bool_(self):\n",
    "        return bool(abs(self))\n",
    "    \n",
    "    def __add__(self,other):\n",
    "        return Vector(self.x + other.x, self.y+other.y)\n",
    "    \n",
    "    def __mul__(self, scalar):\n",
    "        return Vector(self.x * scalar,self.y *scalar)\n",
    "    \n",
    "    def __str__(self):\n",
    "        return 'hru '"
   ]
  },
  {
   "cell_type": "code",
   "execution_count": 58,
   "id": "49f98120",
   "metadata": {},
   "outputs": [],
   "source": [
    "v=Vector(1,2)"
   ]
  },
  {
   "cell_type": "code",
   "execution_count": 59,
   "id": "9f45aa59",
   "metadata": {},
   "outputs": [
    {
     "data": {
      "text/plain": [
       "Vec of 2, 4"
      ]
     },
     "execution_count": 59,
     "metadata": {},
     "output_type": "execute_result"
    }
   ],
   "source": [
    "v+v"
   ]
  },
  {
   "cell_type": "code",
   "execution_count": 60,
   "id": "8402f5e5",
   "metadata": {},
   "outputs": [
    {
     "data": {
      "text/plain": [
       "Vec of 3, 6"
      ]
     },
     "execution_count": 60,
     "metadata": {},
     "output_type": "execute_result"
    }
   ],
   "source": [
    "v*3"
   ]
  },
  {
   "cell_type": "code",
   "execution_count": 62,
   "id": "592ce2f3",
   "metadata": {},
   "outputs": [
    {
     "data": {
      "text/plain": [
       "'hru '"
      ]
     },
     "execution_count": 62,
     "metadata": {},
     "output_type": "execute_result"
    }
   ],
   "source": [
    "str(v)"
   ]
  },
  {
   "cell_type": "code",
   "execution_count": null,
   "id": "3eeda7c1",
   "metadata": {},
   "outputs": [],
   "source": []
  }
 ],
 "metadata": {
  "kernelspec": {
   "display_name": "Python 3 (ipykernel)",
   "language": "python",
   "name": "python3"
  },
  "language_info": {
   "codemirror_mode": {
    "name": "ipython",
    "version": 3
   },
   "file_extension": ".py",
   "mimetype": "text/x-python",
   "name": "python",
   "nbconvert_exporter": "python",
   "pygments_lexer": "ipython3",
   "version": "3.9.5"
  }
 },
 "nbformat": 4,
 "nbformat_minor": 5
}
