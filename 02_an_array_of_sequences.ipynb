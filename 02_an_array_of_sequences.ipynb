{
 "cells": [
  {
   "cell_type": "markdown",
   "id": "89f5cc26",
   "metadata": {},
   "source": [
    "Container sequences:  (Can hold items of diffrent types)\n",
    "- list\n",
    "- tuple\n",
    "- collections.deque\n",
    "\n",
    "Flat sequences: (can hold items of one type)\n",
    "- str\n",
    "- byte\n",
    "- bytearray\n",
    "- memoryview\n",
    "- array.array\n",
    "\n",
    "\n",
    "Container sequences hold references to the objects they contain, while flat one store each item within its own memory space \n",
    "\n",
    "Mutable sequences:\n",
    "- list \n",
    "- bytearray\n",
    "-  array.array\n",
    "-  memoryview\n",
    "-  collections.deque\n",
    "\n",
    "Immutable sequences:\n",
    "- tuple\n",
    "- str\n",
    "- bytes"
   ]
  },
  {
   "cell_type": "markdown",
   "id": "5e63b3e0",
   "metadata": {},
   "source": [
    "## List comprehensions - listcomps"
   ]
  },
  {
   "cell_type": "code",
   "execution_count": 1,
   "id": "0c4d83bf",
   "metadata": {},
   "outputs": [
    {
     "data": {
      "text/plain": [
       "[97, 100, 103, 97, 103, 104]"
      ]
     },
     "execution_count": 1,
     "metadata": {},
     "output_type": "execute_result"
    }
   ],
   "source": [
    "symbols = 'adgagh' # ! cool way to handle chars in string\n",
    "[ord(symbol) for symbol in symbols]"
   ]
  },
  {
   "cell_type": "markdown",
   "id": "86957f62",
   "metadata": {},
   "source": [
    "You can write listcomps as bellow with line breaker and without \\. How cool is that"
   ]
  },
  {
   "cell_type": "code",
   "execution_count": 2,
   "id": "66fd211a",
   "metadata": {},
   "outputs": [],
   "source": [
    "sl = [ord(symbol)\n",
    " for\n",
    " symbol\n",
    " in\n",
    " symbols]"
   ]
  },
  {
   "cell_type": "markdown",
   "id": "f1f21f4f",
   "metadata": {},
   "source": [
    "filter and map"
   ]
  },
  {
   "cell_type": "code",
   "execution_count": 3,
   "id": "7f703e0a",
   "metadata": {},
   "outputs": [
    {
     "data": {
      "text/plain": [
       "[]"
      ]
     },
     "execution_count": 3,
     "metadata": {},
     "output_type": "execute_result"
    }
   ],
   "source": [
    "list(filter(lambda c: c>127, map(ord, symbols)))"
   ]
  },
  {
   "cell_type": "code",
   "execution_count": 4,
   "id": "109dc3b7",
   "metadata": {},
   "outputs": [
    {
     "data": {
      "text/plain": [
       "<map at 0x13dfb4511c0>"
      ]
     },
     "execution_count": 4,
     "metadata": {},
     "output_type": "execute_result"
    }
   ],
   "source": [
    "map(ord, symbols)"
   ]
  },
  {
   "cell_type": "code",
   "execution_count": 5,
   "id": "bda0f958",
   "metadata": {},
   "outputs": [
    {
     "data": {
      "text/plain": [
       "[97, 100, 103, 97, 103, 104]"
      ]
     },
     "execution_count": 5,
     "metadata": {},
     "output_type": "execute_result"
    }
   ],
   "source": [
    "list(map(ord, symbols))"
   ]
  },
  {
   "cell_type": "code",
   "execution_count": 6,
   "id": "272c7433",
   "metadata": {},
   "outputs": [
    {
     "data": {
      "text/plain": [
       "[103, 103, 104]"
      ]
     },
     "execution_count": 6,
     "metadata": {},
     "output_type": "execute_result"
    }
   ],
   "source": [
    "list(filter(lambda c : c>100, sl))"
   ]
  },
  {
   "cell_type": "code",
   "execution_count": 7,
   "id": "3a413fff",
   "metadata": {},
   "outputs": [
    {
     "data": {
      "text/plain": [
       "[103, 103, 104]"
      ]
     },
     "execution_count": 7,
     "metadata": {},
     "output_type": "execute_result"
    }
   ],
   "source": [
    "[ord(symbol) for symbol in symbols if ord(symbol) > 100]"
   ]
  },
  {
   "cell_type": "markdown",
   "id": "ef9b5c71",
   "metadata": {},
   "source": [
    "### genexps\n",
    "\n"
   ]
  },
  {
   "cell_type": "code",
   "execution_count": 8,
   "id": "61d5190e",
   "metadata": {},
   "outputs": [
    {
     "data": {
      "text/plain": [
       "(97, 100, 103, 97, 103, 104)"
      ]
     },
     "execution_count": 8,
     "metadata": {},
     "output_type": "execute_result"
    }
   ],
   "source": [
    "tuple(ord(s) for s in symbols)"
   ]
  },
  {
   "cell_type": "code",
   "execution_count": 10,
   "id": "37149455",
   "metadata": {},
   "outputs": [],
   "source": [
    "import array\n"
   ]
  },
  {
   "cell_type": "code",
   "execution_count": 11,
   "id": "1754d264",
   "metadata": {},
   "outputs": [
    {
     "name": "stdout",
     "output_type": "stream",
     "text": [
      "s, black\n",
      "m, black\n",
      "l, black\n",
      "s, white\n",
      "m, white\n",
      "l, white\n"
     ]
    }
   ],
   "source": [
    "colors = ['black', 'white']\n",
    "sizes = ['s', 'm', 'l']\n",
    "\n",
    "for tshirt in (f'{s}, {c}' for c in colors for s in sizes ):\n",
    "    print(tshirt)"
   ]
  },
  {
   "cell_type": "markdown",
   "id": "c405dd6b",
   "metadata": {},
   "source": [
    "### tuples"
   ]
  },
  {
   "cell_type": "code",
   "execution_count": 12,
   "id": "e4eb195f",
   "metadata": {},
   "outputs": [
    {
     "data": {
      "text/plain": [
       "tuple"
      ]
     },
     "execution_count": 12,
     "metadata": {},
     "output_type": "execute_result"
    }
   ],
   "source": [
    "type((1,3))"
   ]
  },
  {
   "cell_type": "code",
   "execution_count": 13,
   "id": "8eead5a5",
   "metadata": {},
   "outputs": [
    {
     "data": {
      "text/plain": [
       "10"
      ]
     },
     "execution_count": 13,
     "metadata": {},
     "output_type": "execute_result"
    }
   ],
   "source": [
    "tup = (10,2,34)\n",
    "tup[0]"
   ]
  },
  {
   "cell_type": "code",
   "execution_count": 14,
   "id": "20769478",
   "metadata": {},
   "outputs": [
    {
     "data": {
      "text/plain": [
       "[2, 10, 34]"
      ]
     },
     "execution_count": 14,
     "metadata": {},
     "output_type": "execute_result"
    }
   ],
   "source": [
    "sorted(tup)"
   ]
  },
  {
   "cell_type": "code",
   "execution_count": 15,
   "id": "4c161d71",
   "metadata": {},
   "outputs": [],
   "source": [
    "a,*b= range(5)"
   ]
  },
  {
   "cell_type": "code",
   "execution_count": 16,
   "id": "c2d3483f",
   "metadata": {},
   "outputs": [
    {
     "data": {
      "text/plain": [
       "[1, 2, 3, 4]"
      ]
     },
     "execution_count": 16,
     "metadata": {},
     "output_type": "execute_result"
    }
   ],
   "source": [
    "b"
   ]
  },
  {
   "cell_type": "markdown",
   "id": "1046bbd6-9e36-4baf-84af-4361e65f2770",
   "metadata": {},
   "source": [
    "# slices"
   ]
  },
  {
   "cell_type": "code",
   "execution_count": 42,
   "id": "a67452d2-b694-4d78-b596-5ce53e9ec6ea",
   "metadata": {},
   "outputs": [
    {
     "data": {
      "text/plain": [
       "[0, 1, 2]"
      ]
     },
     "execution_count": 42,
     "metadata": {},
     "output_type": "execute_result"
    }
   ],
   "source": [
    "list(range(3))"
   ]
  },
  {
   "cell_type": "code",
   "execution_count": 44,
   "id": "55b62095-7a61-4c6a-8fc1-1ca4b7207b13",
   "metadata": {},
   "outputs": [],
   "source": [
    "l = [0,1,2 ,3,4,5]"
   ]
  },
  {
   "cell_type": "code",
   "execution_count": 45,
   "id": "b5fd2101-1ce7-4bc0-bf81-81bb4551577d",
   "metadata": {},
   "outputs": [
    {
     "data": {
      "text/plain": [
       "[0, 1, 2]"
      ]
     },
     "execution_count": 45,
     "metadata": {},
     "output_type": "execute_result"
    }
   ],
   "source": [
    "l[:3]"
   ]
  },
  {
   "cell_type": "markdown",
   "id": "eb8d8f46-6720-46a7-a670-8a1e2186cf94",
   "metadata": {},
   "source": [
    "Python slices omit last element, it works well with zero-based indesing"
   ]
  },
  {
   "cell_type": "code",
   "execution_count": 46,
   "id": "5c093d73-e86d-4ada-a73d-a5b5951fead3",
   "metadata": {},
   "outputs": [
    {
     "data": {
      "text/plain": [
       "[0, 2, 4]"
      ]
     },
     "execution_count": 46,
     "metadata": {},
     "output_type": "execute_result"
    }
   ],
   "source": [
    "l[0::2]"
   ]
  },
  {
   "cell_type": "markdown",
   "id": "02554104-9009-4093-bbf0-9b3b35bf2b97",
   "metadata": {},
   "source": [
    "Inversing order"
   ]
  },
  {
   "cell_type": "code",
   "execution_count": 47,
   "id": "b6bece95-d5db-4768-8201-9a83bc5891e1",
   "metadata": {},
   "outputs": [
    {
     "data": {
      "text/plain": [
       "[5, 4, 3, 2, 1, 0]"
      ]
     },
     "execution_count": 47,
     "metadata": {},
     "output_type": "execute_result"
    }
   ],
   "source": [
    "l[::-1]"
   ]
  },
  {
   "cell_type": "code",
   "execution_count": 48,
   "id": "102db42a-55c5-441e-b9d5-26b28885ee5e",
   "metadata": {},
   "outputs": [
    {
     "data": {
      "text/plain": [
       "[5, 3, 1]"
      ]
     },
     "execution_count": 48,
     "metadata": {},
     "output_type": "execute_result"
    }
   ],
   "source": [
    "l[-1::-2]"
   ]
  },
  {
   "cell_type": "code",
   "execution_count": 49,
   "id": "7a02bad7-c950-43a4-8e92-8381278c7aec",
   "metadata": {
    "tags": []
   },
   "outputs": [
    {
     "data": {
      "text/plain": [
       "[0, 1, 2, 3, 4, 5, 0, 1, 2, 3, 4, 5]"
      ]
     },
     "execution_count": 49,
     "metadata": {},
     "output_type": "execute_result"
    }
   ],
   "source": [
    "l*2"
   ]
  },
  {
   "cell_type": "code",
   "execution_count": 50,
   "id": "96fef02a-7a3a-402b-8e7a-54c67fbf751a",
   "metadata": {},
   "outputs": [
    {
     "data": {
      "text/plain": [
       "'abcabcabcabcabc'"
      ]
     },
     "execution_count": 50,
     "metadata": {},
     "output_type": "execute_result"
    }
   ],
   "source": [
    "5* 'abc'"
   ]
  },
  {
   "cell_type": "markdown",
   "id": "d51a5d25-9a9a-4a86-a5ba-abb9dad81225",
   "metadata": {},
   "source": [
    "Attention this isn't doing elementwise addition"
   ]
  },
  {
   "cell_type": "code",
   "execution_count": 54,
   "id": "6ebd703e-fa69-43dc-8e30-ebbc5664c5d2",
   "metadata": {
    "tags": []
   },
   "outputs": [
    {
     "data": {
      "text/plain": [
       "[0, 1, 2, 3, 4, 5, 0, 1, 2, 3, 4, 5, 0, 1, 2, 3, 4, 5]"
      ]
     },
     "execution_count": 54,
     "metadata": {},
     "output_type": "execute_result"
    }
   ],
   "source": [
    "l + l *2"
   ]
  },
  {
   "cell_type": "code",
   "execution_count": 63,
   "id": "58cea1fe-00b0-47fb-8146-5ee27a15c9da",
   "metadata": {},
   "outputs": [
    {
     "data": {
      "text/plain": [
       "[0, 2, 4, 6, 8, 10]"
      ]
     },
     "execution_count": 63,
     "metadata": {},
     "output_type": "execute_result"
    }
   ],
   "source": [
    "from operator import add, mul\n",
    "list(map(add,l,l))\n",
    "    "
   ]
  },
  {
   "cell_type": "code",
   "execution_count": 55,
   "id": "72f489a4-c99d-4e3a-b986-bddd34036e3e",
   "metadata": {},
   "outputs": [
    {
     "data": {
      "text/plain": [
       "[0, 2, 4, 6, 8, 10]"
      ]
     },
     "execution_count": 55,
     "metadata": {},
     "output_type": "execute_result"
    }
   ],
   "source": [
    "[sum(x) for x in zip(l,l)]"
   ]
  },
  {
   "cell_type": "code",
   "execution_count": 66,
   "id": "59ddcf6d-b78a-4889-bbb1-b953ac8aebe0",
   "metadata": {},
   "outputs": [
    {
     "data": {
      "text/plain": [
       "[0, 2, 4, 6, 8, 10]"
      ]
     },
     "execution_count": 66,
     "metadata": {},
     "output_type": "execute_result"
    }
   ],
   "source": [
    "[a + b for a, b in zip(l, l)]"
   ]
  },
  {
   "cell_type": "markdown",
   "id": "3dce0e39-615d-4948-a85a-7ec8007160d4",
   "metadata": {},
   "source": [
    "### this is fast addition !"
   ]
  },
  {
   "cell_type": "code",
   "execution_count": 68,
   "id": "333209b5-4081-4a70-b56c-62ca5a38ef71",
   "metadata": {},
   "outputs": [
    {
     "name": "stdout",
     "output_type": "stream",
     "text": [
      "728 ns ± 13.6 ns per loop (mean ± std. dev. of 7 runs, 1000000 loops each)\n"
     ]
    }
   ],
   "source": [
    "timeit list(map(add,l,l))"
   ]
  },
  {
   "cell_type": "code",
   "execution_count": 69,
   "id": "25155124-f868-476b-bf6a-a390b480913f",
   "metadata": {},
   "outputs": [
    {
     "name": "stdout",
     "output_type": "stream",
     "text": [
      "734 ns ± 31.3 ns per loop (mean ± std. dev. of 7 runs, 1000000 loops each)\n"
     ]
    }
   ],
   "source": [
    "timeit list(map(mul,l,l))"
   ]
  },
  {
   "cell_type": "code",
   "execution_count": 70,
   "id": "dd0b356b-da6f-4c70-92aa-4dc0a159b8ae",
   "metadata": {
    "tags": []
   },
   "outputs": [
    {
     "name": "stdout",
     "output_type": "stream",
     "text": [
      "1.74 µs ± 72.2 ns per loop (mean ± std. dev. of 7 runs, 1000000 loops each)\n"
     ]
    }
   ],
   "source": [
    "timeit [sum(x) for x in zip(l,l)]"
   ]
  },
  {
   "cell_type": "code",
   "execution_count": 74,
   "id": "31b47709-819e-4a57-a229-68a66b6502d5",
   "metadata": {},
   "outputs": [
    {
     "name": "stdout",
     "output_type": "stream",
     "text": [
      "975 ns ± 40.7 ns per loop (mean ± std. dev. of 7 runs, 1000000 loops each)\n"
     ]
    }
   ],
   "source": [
    "timeit [a + b for a, b in zip(l, l)]"
   ]
  },
  {
   "cell_type": "code",
   "execution_count": 71,
   "id": "5d85bcc2-8ae3-4efa-a550-a4645d2f15d3",
   "metadata": {},
   "outputs": [],
   "source": [
    "import numpy as np\n",
    "l_np = np.array(l)"
   ]
  },
  {
   "cell_type": "code",
   "execution_count": 72,
   "id": "63108b66-d4e6-4721-9246-87eb4c8061bd",
   "metadata": {},
   "outputs": [
    {
     "data": {
      "text/plain": [
       "array([ 0,  2,  4,  6,  8, 10])"
      ]
     },
     "execution_count": 72,
     "metadata": {},
     "output_type": "execute_result"
    }
   ],
   "source": [
    "l_np + l_np"
   ]
  },
  {
   "cell_type": "code",
   "execution_count": 73,
   "id": "e844cddb-e6e1-4f10-9e08-10f6167fb640",
   "metadata": {},
   "outputs": [
    {
     "name": "stdout",
     "output_type": "stream",
     "text": [
      "652 ns ± 45.3 ns per loop (mean ± std. dev. of 7 runs, 1000000 loops each)\n"
     ]
    }
   ],
   "source": [
    "timeit l_np + l_np"
   ]
  },
  {
   "cell_type": "markdown",
   "id": "96d667ef-039b-447f-af9c-086c27753404",
   "metadata": {},
   "source": [
    "## list of lists"
   ]
  },
  {
   "cell_type": "markdown",
   "id": "100a416c-6553-44cf-ae42-cf85bfe953a4",
   "metadata": {},
   "source": [
    "Here the inner list is diffrent list for each for loop"
   ]
  },
  {
   "cell_type": "code",
   "execution_count": 81,
   "id": "a8896e9a-baa8-487d-a1b4-5daf64372c71",
   "metadata": {},
   "outputs": [],
   "source": [
    "board = [['s'] * 3 for i in range(3)]"
   ]
  },
  {
   "cell_type": "code",
   "execution_count": 83,
   "id": "f00c94fb-a283-46d1-845d-75d6a6e70d1a",
   "metadata": {},
   "outputs": [
    {
     "data": {
      "text/plain": [
       "[['s', 's', 's'], ['s', 's', 's'], ['s', 's', 's']]"
      ]
     },
     "execution_count": 83,
     "metadata": {},
     "output_type": "execute_result"
    }
   ],
   "source": [
    "board"
   ]
  },
  {
   "cell_type": "code",
   "execution_count": 85,
   "id": "dce37ef7-0ced-41bf-9ed4-ac110e90982b",
   "metadata": {},
   "outputs": [],
   "source": [
    "board[1][2] = 'XX'"
   ]
  },
  {
   "cell_type": "code",
   "execution_count": 86,
   "id": "23fa1a9d-71ce-4b4e-84be-697af0db645d",
   "metadata": {},
   "outputs": [
    {
     "data": {
      "text/plain": [
       "[['s', 's', 's'], ['s', 's', 'XX'], ['s', 's', 's']]"
      ]
     },
     "execution_count": 86,
     "metadata": {},
     "output_type": "execute_result"
    }
   ],
   "source": [
    "board"
   ]
  },
  {
   "cell_type": "markdown",
   "id": "7de07075-ae17-43e1-86e2-2bcb0d2a8e44",
   "metadata": {},
   "source": [
    "The outter list is made of three references to the same inner list. Here you are referencing the same list three times"
   ]
  },
  {
   "cell_type": "code",
   "execution_count": 89,
   "id": "289dfc94-d4d0-40e9-b1da-47e794bbf6ea",
   "metadata": {},
   "outputs": [],
   "source": [
    "weird = [['s'] *3] *3"
   ]
  },
  {
   "cell_type": "code",
   "execution_count": 90,
   "id": "e552c3fb-df79-488f-98f7-124b464233cd",
   "metadata": {},
   "outputs": [
    {
     "data": {
      "text/plain": [
       "[['s', 's', 's'], ['s', 's', 's'], ['s', 's', 's']]"
      ]
     },
     "execution_count": 90,
     "metadata": {},
     "output_type": "execute_result"
    }
   ],
   "source": [
    "weird"
   ]
  },
  {
   "cell_type": "code",
   "execution_count": 91,
   "id": "9168509a-61e6-45f8-90c7-79524c52779c",
   "metadata": {},
   "outputs": [],
   "source": [
    "weird[1][2] = 'XXXX'"
   ]
  },
  {
   "cell_type": "markdown",
   "id": "80127132-36f2-4300-aab8-4b9d37abd930",
   "metadata": {},
   "source": [
    "Beacause of the way the list was made (refferences) by changing element in one inner list you change the same element in every single one."
   ]
  },
  {
   "cell_type": "code",
   "execution_count": 92,
   "id": "e225dfdd-8e38-4bab-a7f8-f2db89e57100",
   "metadata": {},
   "outputs": [
    {
     "data": {
      "text/plain": [
       "[['s', 's', 'XXXX'], ['s', 's', 'XXXX'], ['s', 's', 'XXXX']]"
      ]
     },
     "execution_count": 92,
     "metadata": {},
     "output_type": "execute_result"
    }
   ],
   "source": [
    "weird"
   ]
  },
  {
   "cell_type": "markdown",
   "id": "1af731be-2865-4432-93af-e860c37cf69f",
   "metadata": {},
   "source": [
    "The same happens here. The same row is appended three times to list"
   ]
  },
  {
   "cell_type": "code",
   "execution_count": 97,
   "id": "ebfd757d-0776-4f4c-8c67-4757c39741d5",
   "metadata": {},
   "outputs": [],
   "source": [
    "weird_2 = []\n",
    "row = ['s'] *3\n",
    "for i in range(3):\n",
    "    weird_2.append(row)"
   ]
  },
  {
   "cell_type": "code",
   "execution_count": 98,
   "id": "782b6738-a209-4e18-9c06-6d1481f924b0",
   "metadata": {},
   "outputs": [
    {
     "data": {
      "text/plain": [
       "[['s', 's', 's'], ['s', 's', 's'], ['s', 's', 's']]"
      ]
     },
     "execution_count": 98,
     "metadata": {},
     "output_type": "execute_result"
    }
   ],
   "source": [
    "weird_2"
   ]
  },
  {
   "cell_type": "code",
   "execution_count": 106,
   "id": "a5288cf0-179e-43a0-9a7f-aedfaec7aaf0",
   "metadata": {},
   "outputs": [
    {
     "data": {
      "text/plain": [
       "[['s', 's', 's'], ['s', 's', 'XXXX'], ['s', 's', 's']]"
      ]
     },
     "execution_count": 106,
     "metadata": {},
     "output_type": "execute_result"
    }
   ],
   "source": [
    "weird_2[1][2] = 'XXXX'\n",
    "weird_2"
   ]
  },
  {
   "cell_type": "markdown",
   "id": "116cc56d-747d-4766-8eaa-4e828f0a817c",
   "metadata": {},
   "source": [
    "This problem is not present below, you create new row in each loop."
   ]
  },
  {
   "cell_type": "code",
   "execution_count": 104,
   "id": "cb841432-86d5-4c99-9045-405aec09c874",
   "metadata": {
    "tags": []
   },
   "outputs": [],
   "source": [
    "normal = []\n",
    "for i in range(3):\n",
    "    row = ['s'] *3\n",
    "    normal.append(row)"
   ]
  },
  {
   "cell_type": "code",
   "execution_count": 105,
   "id": "4532d5b8-909d-4db0-8488-3e59527c829b",
   "metadata": {},
   "outputs": [
    {
     "data": {
      "text/plain": [
       "[['s', 's', 's'], ['s', 's', 's'], ['s', 's', 's']]"
      ]
     },
     "execution_count": 105,
     "metadata": {},
     "output_type": "execute_result"
    }
   ],
   "source": [
    "normal"
   ]
  },
  {
   "cell_type": "code",
   "execution_count": 107,
   "id": "fab554f2-5e99-4032-b666-c62c8196bbc2",
   "metadata": {},
   "outputs": [
    {
     "data": {
      "text/plain": [
       "[['s', 's', 's'], ['s', 's', 'XXXX'], ['s', 's', 's']]"
      ]
     },
     "execution_count": 107,
     "metadata": {},
     "output_type": "execute_result"
    }
   ],
   "source": [
    "normal[1][2] = 'XXXX'\n",
    "normal"
   ]
  },
  {
   "cell_type": "code",
   "execution_count": 110,
   "id": "b27b51aa-0823-46b2-b8b8-4f7a6662db2a",
   "metadata": {},
   "outputs": [],
   "source": [
    "t = (1,2,[3,4])\n"
   ]
  },
  {
   "cell_type": "code",
   "execution_count": 111,
   "id": "9bcae0cc-42bb-44a7-81f8-4203d65481ff",
   "metadata": {},
   "outputs": [
    {
     "ename": "TypeError",
     "evalue": "'tuple' object does not support item assignment",
     "output_type": "error",
     "traceback": [
      "\u001b[1;31m---------------------------------------------------------------------------\u001b[0m",
      "\u001b[1;31mTypeError\u001b[0m                                 Traceback (most recent call last)",
      "\u001b[1;32m~\\AppData\\Local\\Temp/ipykernel_2824/2156242830.py\u001b[0m in \u001b[0;36m<module>\u001b[1;34m\u001b[0m\n\u001b[1;32m----> 1\u001b[1;33m \u001b[0mt\u001b[0m\u001b[1;33m[\u001b[0m\u001b[1;36m2\u001b[0m\u001b[1;33m]\u001b[0m \u001b[1;33m+=\u001b[0m\u001b[1;33m[\u001b[0m\u001b[1;36m5\u001b[0m\u001b[1;33m,\u001b[0m\u001b[1;36m6\u001b[0m\u001b[1;33m]\u001b[0m\u001b[1;33m\u001b[0m\u001b[1;33m\u001b[0m\u001b[0m\n\u001b[0m",
      "\u001b[1;31mTypeError\u001b[0m: 'tuple' object does not support item assignment"
     ]
    }
   ],
   "source": [
    "t[2] +=[5,6]"
   ]
  },
  {
   "cell_type": "code",
   "execution_count": 112,
   "id": "e784b03a-2f96-40c4-8631-7e54896f828d",
   "metadata": {},
   "outputs": [
    {
     "data": {
      "text/plain": [
       "(1, 2, [3, 4, 5, 6])"
      ]
     },
     "execution_count": 112,
     "metadata": {},
     "output_type": "execute_result"
    }
   ],
   "source": [
    "t"
   ]
  }
 ],
 "metadata": {
  "kernelspec": {
   "display_name": "Python 3 (ipykernel)",
   "language": "python",
   "name": "python3"
  },
  "language_info": {
   "codemirror_mode": {
    "name": "ipython",
    "version": 3
   },
   "file_extension": ".py",
   "mimetype": "text/x-python",
   "name": "python",
   "nbconvert_exporter": "python",
   "pygments_lexer": "ipython3",
   "version": "3.9.5"
  }
 },
 "nbformat": 4,
 "nbformat_minor": 5
}
