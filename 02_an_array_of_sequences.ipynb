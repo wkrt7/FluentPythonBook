{
 "cells": [
  {
   "cell_type": "markdown",
   "id": "89f5cc26",
   "metadata": {},
   "source": [
    "Container sequences:  (Can hold items of diffrent types)\n",
    "- list\n",
    "- tuple\n",
    "- collections.deque\n",
    "\n",
    "Flat sequences: (can hold items of one type)\n",
    "- str\n",
    "- byte\n",
    "- bytearray\n",
    "- memoryview\n",
    "- array.array\n",
    "\n",
    "\n",
    "Container sequences hold references to the objects they contain, while flat one store each item within its own memory space \n",
    "\n",
    "Mutable sequences:\n",
    "- list \n",
    "- bytearray\n",
    "-  array.array\n",
    "-  memoryview\n",
    "-  collections.deque\n",
    "\n",
    "Immutable sequences:\n",
    "- tuple\n",
    "- str\n",
    "- bytes"
   ]
  },
  {
   "cell_type": "markdown",
   "id": "5e63b3e0",
   "metadata": {},
   "source": [
    "## List comprehensions - listcomps"
   ]
  },
  {
   "cell_type": "code",
   "execution_count": 2,
   "id": "0c4d83bf",
   "metadata": {},
   "outputs": [
    {
     "data": {
      "text/plain": [
       "[97, 100, 103, 97, 103, 104]"
      ]
     },
     "execution_count": 2,
     "metadata": {},
     "output_type": "execute_result"
    }
   ],
   "source": [
    "symbols = 'adgagh' # ! cool way to handle chars in string\n",
    "[ord(symbol) for symbol in symbols]"
   ]
  },
  {
   "cell_type": "markdown",
   "id": "86957f62",
   "metadata": {},
   "source": [
    "You can write listcomps as bellow with line breaker and without \\. How cool is that"
   ]
  },
  {
   "cell_type": "code",
   "execution_count": 11,
   "id": "66fd211a",
   "metadata": {},
   "outputs": [],
   "source": [
    "sl = [ord(symbol)\n",
    " for\n",
    " symbol\n",
    " in\n",
    " symbols]"
   ]
  },
  {
   "cell_type": "markdown",
   "id": "f1f21f4f",
   "metadata": {},
   "source": [
    "filter and map"
   ]
  },
  {
   "cell_type": "code",
   "execution_count": 12,
   "id": "7f703e0a",
   "metadata": {},
   "outputs": [
    {
     "data": {
      "text/plain": [
       "[]"
      ]
     },
     "execution_count": 12,
     "metadata": {},
     "output_type": "execute_result"
    }
   ],
   "source": [
    "list(filter(lambda c: c>127, map(ord, symbols)))"
   ]
  },
  {
   "cell_type": "code",
   "execution_count": 18,
   "id": "109dc3b7",
   "metadata": {},
   "outputs": [
    {
     "data": {
      "text/plain": [
       "<map at 0x1d1690c00d0>"
      ]
     },
     "execution_count": 18,
     "metadata": {},
     "output_type": "execute_result"
    }
   ],
   "source": [
    "map(ord, symbols)"
   ]
  },
  {
   "cell_type": "code",
   "execution_count": 13,
   "id": "bda0f958",
   "metadata": {},
   "outputs": [
    {
     "data": {
      "text/plain": [
       "[97, 100, 103, 97, 103, 104]"
      ]
     },
     "execution_count": 13,
     "metadata": {},
     "output_type": "execute_result"
    }
   ],
   "source": [
    "list(map(ord, symbols))"
   ]
  },
  {
   "cell_type": "code",
   "execution_count": 15,
   "id": "272c7433",
   "metadata": {},
   "outputs": [
    {
     "data": {
      "text/plain": [
       "[103, 103, 104]"
      ]
     },
     "execution_count": 15,
     "metadata": {},
     "output_type": "execute_result"
    }
   ],
   "source": [
    "list(filter(lambda c : c>100, sl))"
   ]
  },
  {
   "cell_type": "code",
   "execution_count": 16,
   "id": "3a413fff",
   "metadata": {},
   "outputs": [
    {
     "data": {
      "text/plain": [
       "[103, 103, 104]"
      ]
     },
     "execution_count": 16,
     "metadata": {},
     "output_type": "execute_result"
    }
   ],
   "source": [
    "[ord(symbol) for symbol in symbols if ord(symbol) > 100]"
   ]
  },
  {
   "cell_type": "markdown",
   "id": "ef9b5c71",
   "metadata": {},
   "source": [
    "### genexps\n",
    "\n"
   ]
  },
  {
   "cell_type": "code",
   "execution_count": 19,
   "id": "61d5190e",
   "metadata": {},
   "outputs": [
    {
     "data": {
      "text/plain": [
       "(97, 100, 103, 97, 103, 104)"
      ]
     },
     "execution_count": 19,
     "metadata": {},
     "output_type": "execute_result"
    }
   ],
   "source": [
    "tuple(ord(s) for s in symbols)"
   ]
  },
  {
   "cell_type": "code",
   "execution_count": 21,
   "id": "37149455",
   "metadata": {},
   "outputs": [
    {
     "ename": "TypeError",
     "evalue": "array() takes at least 1 argument (0 given)",
     "output_type": "error",
     "traceback": [
      "\u001b[1;31m---------------------------------------------------------------------------\u001b[0m",
      "\u001b[1;31mTypeError\u001b[0m                                 Traceback (most recent call last)",
      "\u001b[1;32m~\\AppData\\Local\\Temp/ipykernel_6112/848150982.py\u001b[0m in \u001b[0;36m<module>\u001b[1;34m\u001b[0m\n\u001b[0;32m      1\u001b[0m \u001b[1;32mimport\u001b[0m \u001b[0marray\u001b[0m\u001b[1;33m\u001b[0m\u001b[1;33m\u001b[0m\u001b[0m\n\u001b[1;32m----> 2\u001b[1;33m \u001b[0marray\u001b[0m\u001b[1;33m.\u001b[0m\u001b[0marray\u001b[0m\u001b[1;33m(\u001b[0m\u001b[1;33m)\u001b[0m\u001b[1;33m\u001b[0m\u001b[1;33m\u001b[0m\u001b[0m\n\u001b[0m",
      "\u001b[1;31mTypeError\u001b[0m: array() takes at least 1 argument (0 given)"
     ]
    }
   ],
   "source": [
    "import array\n",
    "array.array()"
   ]
  },
  {
   "cell_type": "code",
   "execution_count": 23,
   "id": "1754d264",
   "metadata": {},
   "outputs": [
    {
     "name": "stdout",
     "output_type": "stream",
     "text": [
      "s, black\n",
      "m, black\n",
      "l, black\n",
      "s, white\n",
      "m, white\n",
      "l, white\n"
     ]
    }
   ],
   "source": [
    "colors = ['black', 'white']\n",
    "sizes = ['s', 'm', 'l']\n",
    "\n",
    "for tshirt in (f'{s}, {c}' for c in colors for s in sizes ):\n",
    "    print(tshirt)"
   ]
  },
  {
   "cell_type": "markdown",
   "id": "c405dd6b",
   "metadata": {},
   "source": [
    "### tuples"
   ]
  },
  {
   "cell_type": "code",
   "execution_count": 25,
   "id": "e4eb195f",
   "metadata": {},
   "outputs": [
    {
     "data": {
      "text/plain": [
       "tuple"
      ]
     },
     "execution_count": 25,
     "metadata": {},
     "output_type": "execute_result"
    }
   ],
   "source": [
    "type((1,3))"
   ]
  },
  {
   "cell_type": "code",
   "execution_count": 27,
   "id": "8eead5a5",
   "metadata": {},
   "outputs": [
    {
     "data": {
      "text/plain": [
       "10"
      ]
     },
     "execution_count": 27,
     "metadata": {},
     "output_type": "execute_result"
    }
   ],
   "source": [
    "tup = (10,2,34)\n",
    "tup[0]"
   ]
  },
  {
   "cell_type": "code",
   "execution_count": 28,
   "id": "20769478",
   "metadata": {},
   "outputs": [
    {
     "data": {
      "text/plain": [
       "[2, 10, 34]"
      ]
     },
     "execution_count": 28,
     "metadata": {},
     "output_type": "execute_result"
    }
   ],
   "source": [
    "sorted(tup)"
   ]
  },
  {
   "cell_type": "code",
   "execution_count": 34,
   "id": "4c161d71",
   "metadata": {},
   "outputs": [],
   "source": [
    "a,*b= range(5)"
   ]
  },
  {
   "cell_type": "code",
   "execution_count": 37,
   "id": "c2d3483f",
   "metadata": {},
   "outputs": [
    {
     "data": {
      "text/plain": [
       "[1, 2, 3, 4]"
      ]
     },
     "execution_count": 37,
     "metadata": {},
     "output_type": "execute_result"
    }
   ],
   "source": [
    "b"
   ]
  }
 ],
 "metadata": {
  "kernelspec": {
   "display_name": "Python 3 (ipykernel)",
   "language": "python",
   "name": "python3"
  },
  "language_info": {
   "codemirror_mode": {
    "name": "ipython",
    "version": 3
   },
   "file_extension": ".py",
   "mimetype": "text/x-python",
   "name": "python",
   "nbconvert_exporter": "python",
   "pygments_lexer": "ipython3",
   "version": "3.9.5"
  }
 },
 "nbformat": 4,
 "nbformat_minor": 5
}
